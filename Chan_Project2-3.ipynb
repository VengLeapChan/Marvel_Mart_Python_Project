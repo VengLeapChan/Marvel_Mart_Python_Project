{
 "cells": [
  {
   "cell_type": "markdown",
   "id": "ee06c269-ab27-4cf5-9fb0-d38c7e4c8890",
   "metadata": {
    "tags": []
   },
   "source": [
    "## Python Project: Marvel Mart Project"
   ]
  },
  {
   "cell_type": "markdown",
   "id": "4b69ea89-0571-44d5-99f0-36708f3276f7",
   "metadata": {},
   "source": [
    "### Veng Leap Chan "
   ]
  },
  {
   "cell_type": "markdown",
   "id": "613753ea-ffd5-40f9-aa12-9fbf8df6b135",
   "metadata": {},
   "source": [
    "### Friday, March 11th, 2022"
   ]
  },
  {
   "cell_type": "code",
   "execution_count": 512,
   "id": "e052aa54-6abc-4c1d-b0e0-8081a2b9d4c2",
   "metadata": {},
   "outputs": [],
   "source": [
    "import numpy as np \n",
    "import pandas as pd \n",
    "import seaborn as sns \n",
    "import matplotlib.pyplot as plt\n",
    "import warnings \n",
    "warnings.filterwarnings('ignore')\n",
    "pd.set_option('display.float_format', lambda x: '%.3f'% x)\n",
    "sns.set(style='whitegrid')"
   ]
  },
  {
   "cell_type": "markdown",
   "id": "f2254d4f-57a1-459d-8293-92e0ba5a1f91",
   "metadata": {
    "tags": []
   },
   "source": [
    "## Part 1: Cleaning the data"
   ]
  },
  {
   "cell_type": "code",
   "execution_count": 513,
   "id": "064fa4cb-9b85-48b0-af4c-d69c4c8570b0",
   "metadata": {},
   "outputs": [],
   "source": [
    "# reading MM_Sales.csv as a pandas dataframe \n",
    "MM = pd.read_csv('MarvelMart/MM_Sales.csv')"
   ]
  },
  {
   "cell_type": "code",
   "execution_count": 514,
   "id": "17beff4b-a386-4c22-b3da-1b2d3d531827",
   "metadata": {},
   "outputs": [
    {
     "data": {
      "text/html": [
       "<div>\n",
       "<style scoped>\n",
       "    .dataframe tbody tr th:only-of-type {\n",
       "        vertical-align: middle;\n",
       "    }\n",
       "\n",
       "    .dataframe tbody tr th {\n",
       "        vertical-align: top;\n",
       "    }\n",
       "\n",
       "    .dataframe thead th {\n",
       "        text-align: right;\n",
       "    }\n",
       "</style>\n",
       "<table border=\"1\" class=\"dataframe\">\n",
       "  <thead>\n",
       "    <tr style=\"text-align: right;\">\n",
       "      <th></th>\n",
       "      <th>Region</th>\n",
       "      <th>Country</th>\n",
       "      <th>Item Type</th>\n",
       "      <th>Sales Channel</th>\n",
       "      <th>Order Priority</th>\n",
       "      <th>Order Date</th>\n",
       "      <th>Order ID</th>\n",
       "      <th>Ship Date</th>\n",
       "      <th>Units Sold</th>\n",
       "      <th>Unit Price</th>\n",
       "      <th>Unit Cost</th>\n",
       "      <th>Total Revenue</th>\n",
       "      <th>Total Cost</th>\n",
       "      <th>Total Profit</th>\n",
       "    </tr>\n",
       "  </thead>\n",
       "  <tbody>\n",
       "    <tr>\n",
       "      <th>0</th>\n",
       "      <td>Sub-Saharan Africa</td>\n",
       "      <td>Namibia</td>\n",
       "      <td>Household</td>\n",
       "      <td>Offline</td>\n",
       "      <td>M</td>\n",
       "      <td>8/31/15</td>\n",
       "      <td>897751939</td>\n",
       "      <td>10/12/15</td>\n",
       "      <td>3604</td>\n",
       "      <td>668.270</td>\n",
       "      <td>502.540</td>\n",
       "      <td>2408445.080</td>\n",
       "      <td>1811154.160</td>\n",
       "      <td>597290.920</td>\n",
       "    </tr>\n",
       "    <tr>\n",
       "      <th>1</th>\n",
       "      <td>Europe</td>\n",
       "      <td>Iceland</td>\n",
       "      <td>Baby Food</td>\n",
       "      <td>Offline</td>\n",
       "      <td>L</td>\n",
       "      <td>11/20/10</td>\n",
       "      <td>599480426</td>\n",
       "      <td>1/9/11</td>\n",
       "      <td>8435</td>\n",
       "      <td>255.280</td>\n",
       "      <td>159.420</td>\n",
       "      <td>2153286.800</td>\n",
       "      <td>1344707.700</td>\n",
       "      <td>808579.100</td>\n",
       "    </tr>\n",
       "    <tr>\n",
       "      <th>2</th>\n",
       "      <td>Europe</td>\n",
       "      <td>Russia</td>\n",
       "      <td>Meat</td>\n",
       "      <td>Online</td>\n",
       "      <td>L</td>\n",
       "      <td>6/22/17</td>\n",
       "      <td>538911855</td>\n",
       "      <td>6/25/17</td>\n",
       "      <td>4848</td>\n",
       "      <td>421.890</td>\n",
       "      <td>364.690</td>\n",
       "      <td>2045322.720</td>\n",
       "      <td>1768017.120</td>\n",
       "      <td>277305.600</td>\n",
       "    </tr>\n",
       "    <tr>\n",
       "      <th>3</th>\n",
       "      <td>Europe</td>\n",
       "      <td>Moldova</td>\n",
       "      <td>Meat</td>\n",
       "      <td>Online</td>\n",
       "      <td>L</td>\n",
       "      <td>2/28/12</td>\n",
       "      <td>459845054</td>\n",
       "      <td>3/20/12</td>\n",
       "      <td>7225</td>\n",
       "      <td>421.890</td>\n",
       "      <td>364.690</td>\n",
       "      <td>3048155.250</td>\n",
       "      <td>2634885.250</td>\n",
       "      <td>413270.000</td>\n",
       "    </tr>\n",
       "    <tr>\n",
       "      <th>4</th>\n",
       "      <td>Europe</td>\n",
       "      <td>Malta</td>\n",
       "      <td>Cereal</td>\n",
       "      <td>Online</td>\n",
       "      <td>H</td>\n",
       "      <td>8/12/10</td>\n",
       "      <td>626391351</td>\n",
       "      <td>9/13/10</td>\n",
       "      <td>1975</td>\n",
       "      <td>205.700</td>\n",
       "      <td>117.110</td>\n",
       "      <td>406257.500</td>\n",
       "      <td>231292.250</td>\n",
       "      <td>174965.250</td>\n",
       "    </tr>\n",
       "    <tr>\n",
       "      <th>...</th>\n",
       "      <td>...</td>\n",
       "      <td>...</td>\n",
       "      <td>...</td>\n",
       "      <td>...</td>\n",
       "      <td>...</td>\n",
       "      <td>...</td>\n",
       "      <td>...</td>\n",
       "      <td>...</td>\n",
       "      <td>...</td>\n",
       "      <td>...</td>\n",
       "      <td>...</td>\n",
       "      <td>...</td>\n",
       "      <td>...</td>\n",
       "      <td>...</td>\n",
       "    </tr>\n",
       "    <tr>\n",
       "      <th>49995</th>\n",
       "      <td>Central America and the Caribbean</td>\n",
       "      <td>Dominican Republic</td>\n",
       "      <td>Baby Food</td>\n",
       "      <td>Online</td>\n",
       "      <td>L</td>\n",
       "      <td>2/12/15</td>\n",
       "      <td>350891578</td>\n",
       "      <td>3/15/15</td>\n",
       "      <td>5470</td>\n",
       "      <td>255.280</td>\n",
       "      <td>159.420</td>\n",
       "      <td>1396381.600</td>\n",
       "      <td>872027.400</td>\n",
       "      <td>524354.200</td>\n",
       "    </tr>\n",
       "    <tr>\n",
       "      <th>49996</th>\n",
       "      <td>Central America and the Caribbean</td>\n",
       "      <td>Cuba</td>\n",
       "      <td>Office Supplies</td>\n",
       "      <td>Online</td>\n",
       "      <td>H</td>\n",
       "      <td>3/28/13</td>\n",
       "      <td>748260629</td>\n",
       "      <td>5/3/13</td>\n",
       "      <td>5803</td>\n",
       "      <td>651.210</td>\n",
       "      <td>524.960</td>\n",
       "      <td>3778971.630</td>\n",
       "      <td>3046342.880</td>\n",
       "      <td>732628.750</td>\n",
       "    </tr>\n",
       "    <tr>\n",
       "      <th>49997</th>\n",
       "      <td>Asia</td>\n",
       "      <td>Vietnam</td>\n",
       "      <td>Personal Care</td>\n",
       "      <td>Online</td>\n",
       "      <td>M</td>\n",
       "      <td>11/11/16</td>\n",
       "      <td>322932231</td>\n",
       "      <td>12/18/16</td>\n",
       "      <td>1678</td>\n",
       "      <td>81.730</td>\n",
       "      <td>56.670</td>\n",
       "      <td>137142.940</td>\n",
       "      <td>95092.260</td>\n",
       "      <td>42050.680</td>\n",
       "    </tr>\n",
       "    <tr>\n",
       "      <th>49998</th>\n",
       "      <td>Sub-Saharan Africa</td>\n",
       "      <td>Sierra Leone</td>\n",
       "      <td>Clothes</td>\n",
       "      <td>Offline</td>\n",
       "      <td>M</td>\n",
       "      <td>8/28/10</td>\n",
       "      <td>492142713</td>\n",
       "      <td>9/21/10</td>\n",
       "      <td>4820</td>\n",
       "      <td>109.280</td>\n",
       "      <td>35.840</td>\n",
       "      <td>526729.600</td>\n",
       "      <td>172748.800</td>\n",
       "      <td>353980.800</td>\n",
       "    </tr>\n",
       "    <tr>\n",
       "      <th>49999</th>\n",
       "      <td>Sub-Saharan Africa</td>\n",
       "      <td>Eritrea</td>\n",
       "      <td>Vegetables</td>\n",
       "      <td>Offline</td>\n",
       "      <td>C</td>\n",
       "      <td>6/5/14</td>\n",
       "      <td>943440902</td>\n",
       "      <td>6/30/14</td>\n",
       "      <td>3983</td>\n",
       "      <td>154.060</td>\n",
       "      <td>90.930</td>\n",
       "      <td>613620.980</td>\n",
       "      <td>362174.190</td>\n",
       "      <td>251446.790</td>\n",
       "    </tr>\n",
       "  </tbody>\n",
       "</table>\n",
       "<p>50000 rows × 14 columns</p>\n",
       "</div>"
      ],
      "text/plain": [
       "                                  Region             Country        Item Type  \\\n",
       "0                     Sub-Saharan Africa             Namibia        Household   \n",
       "1                                 Europe             Iceland        Baby Food   \n",
       "2                                 Europe              Russia             Meat   \n",
       "3                                 Europe            Moldova              Meat   \n",
       "4                                 Europe               Malta           Cereal   \n",
       "...                                  ...                 ...              ...   \n",
       "49995  Central America and the Caribbean  Dominican Republic        Baby Food   \n",
       "49996  Central America and the Caribbean                Cuba  Office Supplies   \n",
       "49997                               Asia             Vietnam    Personal Care   \n",
       "49998                 Sub-Saharan Africa        Sierra Leone          Clothes   \n",
       "49999                 Sub-Saharan Africa             Eritrea       Vegetables   \n",
       "\n",
       "      Sales Channel Order Priority Order Date   Order ID Ship Date  \\\n",
       "0           Offline              M    8/31/15  897751939  10/12/15   \n",
       "1           Offline              L   11/20/10  599480426    1/9/11   \n",
       "2            Online              L    6/22/17  538911855   6/25/17   \n",
       "3            Online              L    2/28/12  459845054   3/20/12   \n",
       "4            Online              H    8/12/10  626391351   9/13/10   \n",
       "...             ...            ...        ...        ...       ...   \n",
       "49995        Online              L    2/12/15  350891578   3/15/15   \n",
       "49996        Online              H    3/28/13  748260629    5/3/13   \n",
       "49997        Online              M   11/11/16  322932231  12/18/16   \n",
       "49998       Offline              M    8/28/10  492142713   9/21/10   \n",
       "49999       Offline              C     6/5/14  943440902   6/30/14   \n",
       "\n",
       "       Units Sold  Unit Price  Unit Cost  Total Revenue  Total Cost  \\\n",
       "0            3604     668.270    502.540    2408445.080 1811154.160   \n",
       "1            8435     255.280    159.420    2153286.800 1344707.700   \n",
       "2            4848     421.890    364.690    2045322.720 1768017.120   \n",
       "3            7225     421.890    364.690    3048155.250 2634885.250   \n",
       "4            1975     205.700    117.110     406257.500  231292.250   \n",
       "...           ...         ...        ...            ...         ...   \n",
       "49995        5470     255.280    159.420    1396381.600  872027.400   \n",
       "49996        5803     651.210    524.960    3778971.630 3046342.880   \n",
       "49997        1678      81.730     56.670     137142.940   95092.260   \n",
       "49998        4820     109.280     35.840     526729.600  172748.800   \n",
       "49999        3983     154.060     90.930     613620.980  362174.190   \n",
       "\n",
       "       Total Profit  \n",
       "0        597290.920  \n",
       "1        808579.100  \n",
       "2        277305.600  \n",
       "3        413270.000  \n",
       "4        174965.250  \n",
       "...             ...  \n",
       "49995    524354.200  \n",
       "49996    732628.750  \n",
       "49997     42050.680  \n",
       "49998    353980.800  \n",
       "49999    251446.790  \n",
       "\n",
       "[50000 rows x 14 columns]"
      ]
     },
     "execution_count": 514,
     "metadata": {},
     "output_type": "execute_result"
    }
   ],
   "source": [
    "MM"
   ]
  },
  {
   "cell_type": "code",
   "execution_count": 515,
   "id": "89612897-dc4b-4fbe-8a24-dbbc9a723ecf",
   "metadata": {},
   "outputs": [
    {
     "name": "stdout",
     "output_type": "stream",
     "text": [
      "(50000, 14)\n"
     ]
    }
   ],
   "source": [
    "# how many rows & columns \n",
    "print(MM.shape)"
   ]
  },
  {
   "cell_type": "markdown",
   "id": "d707fb85-4ced-4b79-be7e-1c68209b30c8",
   "metadata": {},
   "source": [
    "#### Determining Missing Data and Filling "
   ]
  },
  {
   "cell_type": "code",
   "execution_count": 516,
   "id": "b812a74f-8e13-4542-be16-35b55f739611",
   "metadata": {},
   "outputs": [
    {
     "name": "stdout",
     "output_type": "stream",
     "text": [
      "Region             0\n",
      "Country            0\n",
      "Item Type          6\n",
      "Sales Channel      0\n",
      "Order Priority    15\n",
      "Order Date         0\n",
      "Order ID           0\n",
      "Ship Date          0\n",
      "Units Sold         0\n",
      "Unit Price         0\n",
      "Unit Cost          0\n",
      "Total Revenue      0\n",
      "Total Cost         0\n",
      "Total Profit       0\n",
      "dtype: int64\n"
     ]
    }
   ],
   "source": [
    "# I am determining if there is any data missing\n",
    "# only Order Priority and Item Type is Missing \n",
    "sumNA = MM.isna().sum()\n",
    "print(sumNA)"
   ]
  },
  {
   "cell_type": "code",
   "execution_count": 517,
   "id": "8e3144b2-66fe-41b7-86d0-4090e7e06026",
   "metadata": {},
   "outputs": [],
   "source": [
    "#creating a clean copy \n",
    "MMClean = MM.copy()"
   ]
  },
  {
   "cell_type": "code",
   "execution_count": 518,
   "id": "ab785188-dbe3-4b3c-b163-5365d957a329",
   "metadata": {},
   "outputs": [],
   "source": [
    "#replacing the missing data in Item Types as 'NULL' \n",
    "MMClean['Item Type'].fillna('NULL', inplace = True)\n",
    "\n",
    "#replacing the missing data in Order Priority as 'NULL' \n",
    "MMClean['Order Priority'].fillna('NULL', inplace = True)"
   ]
  },
  {
   "cell_type": "markdown",
   "id": "9e89b0e5-fe9d-4cde-a7f9-af8ca19c589f",
   "metadata": {},
   "source": [
    "#### Finding Erroneous Data"
   ]
  },
  {
   "cell_type": "code",
   "execution_count": 519,
   "id": "096082c7-10bc-4524-acad-1c069e52eb73",
   "metadata": {},
   "outputs": [
    {
     "name": "stdout",
     "output_type": "stream",
     "text": [
      "Testing erronous data in Country.\n",
      "154.06\n",
      "437.2\n",
      "651.21\n",
      "There are 3 erroneous data point(s) in the Country column.\n"
     ]
    }
   ],
   "source": [
    "#Finding erroneous data in the Country Column\n",
    "# Checking to see if you can convert item in country to float\n",
    "# if we can, it is bad data and we will add a NULL in its place.\n",
    "print('Testing erronous data in Country.')\n",
    "count=0\n",
    "for index, row in MMClean.iterrows():\n",
    "    try:\n",
    "        row.loc['Country'] = float(row.loc['Country'])\n",
    "        print(MMClean.loc[int(index),'Country'])\n",
    "        MMClean.loc[int(index),'Country'] = 'NULL' \n",
    "        count+=1\n",
    "    except: \n",
    "        1==1\n",
    "if count == 0:\n",
    "    print('There are no erroneous data in the Country column.') \n",
    "else:\n",
    "    print(f'There are {count} erroneous data point(s) in the Country column.')"
   ]
  },
  {
   "cell_type": "code",
   "execution_count": 520,
   "id": "325ff77a-89ac-497e-bdb8-da3afe7454d8",
   "metadata": {},
   "outputs": [
    {
     "name": "stdout",
     "output_type": "stream",
     "text": [
      "Item Type\n",
      "Baby Food          4078\n",
      "Beverages          4173\n",
      "Cereal             4141\n",
      "Clothes            4155\n",
      "Cosmetics          4192\n",
      "Fruits             4221\n",
      "Household          4138\n",
      "Meat               4221\n",
      "NULL                  6\n",
      "Office Supplies    4138\n",
      "Personal Care      4185\n",
      "Snacks             4163\n",
      "Vegetables         4189\n",
      "Name: Item Type, dtype: int64\n"
     ]
    }
   ],
   "source": [
    "# Finding erroneous data in Item Type\n",
    "# an invalid item type is defined by an item type that only appears once \n",
    "# there is no invalid item type\n",
    "print(MMClean['Item Type'].groupby(MMClean['Item Type']).count())"
   ]
  },
  {
   "cell_type": "code",
   "execution_count": 521,
   "id": "66ac4d34-75bc-4719-9cfd-cb1fbacaa208",
   "metadata": {},
   "outputs": [
    {
     "name": "stdout",
     "output_type": "stream",
     "text": [
      "There are no erroneous data in the Order Priority column.\n"
     ]
    }
   ],
   "source": [
    "# Finding erroneous data in Order Priority\n",
    "# we have to check the valid priority code: 'C', 'H', 'M', 'L', or 'NULL'\n",
    "# we did not find any invalid priority code\n",
    "count = 0\n",
    "correct = ['C', 'H', 'M', 'L', 'NULL']\n",
    "for index, row in MMClean.iterrows():\n",
    "    if row.loc['Order Priority'] not in correct: \n",
    "        print(MMClean.loc[int(index),'Order Priority'])\n",
    "        row.loc['Order Priority'] = 'NULL'\n",
    "        count +=1 \n",
    "if count == 0:\n",
    "    print('There are no erroneous data in the Order Priority column.') \n",
    "else:\n",
    "    print(f'There are {count} erroneous data point(s) the in Order Priority column.')\n",
    "        "
   ]
  },
  {
   "cell_type": "code",
   "execution_count": 522,
   "id": "efb480ae-8bfc-44f9-b906-03a1214befe1",
   "metadata": {},
   "outputs": [
    {
     "name": "stdout",
     "output_type": "stream",
     "text": [
      "Cosmetics\n",
      "Fruits\n",
      "Snacks\n",
      "Meat\n",
      "Snacks\n",
      "There are 5 erroneous data point(s) in the Order ID column.\n"
     ]
    }
   ],
   "source": [
    "# Finding erroneous data in Order ID \n",
    "# all order ID must be int\n",
    "# we have to convert Order ID into int\n",
    "count = 0\n",
    "for index, row in MMClean.iterrows():\n",
    "    try:\n",
    "        row.loc['Order ID'] = int(MMClean.loc[int(index),'Order ID'])\n",
    "    except:\n",
    "        print(row.loc['Order ID']) \n",
    "        count += 1 \n",
    "        MMClean.loc[int(index),'Order ID'] = int(0) \n",
    "if count == 0:\n",
    "    print('There are no erroneous data in the Order ID column.') \n",
    "else:\n",
    "    print(f'There are {count} erroneous data point(s) in the Order ID column.')\n",
    "MMClean['Order ID']= MMClean['Order ID'].astype(int)"
   ]
  },
  {
   "cell_type": "code",
   "execution_count": 523,
   "id": "03b34c62-25a9-415b-83b0-1d9dac00a32a",
   "metadata": {},
   "outputs": [],
   "source": [
    "#removing rows with NULL or 0\n",
    "def cleaner(var,val):\n",
    "    return MMClean[MMClean[var] != val]\n",
    "\n",
    "MMClean = cleaner('Order ID',0)\n",
    "MMClean = cleaner('Order Priority','NULL')\n",
    "MMClean = cleaner('Item Type','NULL')\n",
    "MMClean = cleaner('Country', 'NULL')"
   ]
  },
  {
   "cell_type": "code",
   "execution_count": 524,
   "id": "37eaa159-3d34-4d1a-b238-0259f5f6af84",
   "metadata": {},
   "outputs": [
    {
     "name": "stdout",
     "output_type": "stream",
     "text": [
      "<class 'pandas.core.frame.DataFrame'>\n",
      "Int64Index: 49971 entries, 0 to 49999\n",
      "Data columns (total 14 columns):\n",
      " #   Column          Non-Null Count  Dtype  \n",
      "---  ------          --------------  -----  \n",
      " 0   Region          49971 non-null  object \n",
      " 1   Country         49971 non-null  object \n",
      " 2   Item Type       49971 non-null  object \n",
      " 3   Sales Channel   49971 non-null  object \n",
      " 4   Order Priority  49971 non-null  object \n",
      " 5   Order Date      49971 non-null  object \n",
      " 6   Order ID        49971 non-null  int64  \n",
      " 7   Ship Date       49971 non-null  object \n",
      " 8   Units Sold      49971 non-null  int64  \n",
      " 9   Unit Price      49971 non-null  float64\n",
      " 10  Unit Cost       49971 non-null  float64\n",
      " 11  Total Revenue   49971 non-null  float64\n",
      " 12  Total Cost      49971 non-null  float64\n",
      " 13  Total Profit    49971 non-null  float64\n",
      "dtypes: float64(5), int64(2), object(7)\n",
      "memory usage: 5.7+ MB\n",
      "None\n"
     ]
    }
   ],
   "source": [
    "#Checking to see how many rows are left\n",
    "print(MMClean.info())"
   ]
  },
  {
   "cell_type": "code",
   "execution_count": 525,
   "id": "fd6dda35-c0e7-407d-9641-5f39117a6201",
   "metadata": {},
   "outputs": [],
   "source": [
    "# saving MMClean as a csv file\n",
    "MMClean.to_csv('MarvelMart/MM_Sales_clean.csv')"
   ]
  },
  {
   "cell_type": "markdown",
   "id": "452461b8-e563-4aab-8bc7-f3601ef2ff3c",
   "metadata": {
    "tags": []
   },
   "source": [
    "## Part 2: Explorator Data Analysis with Reports & Visualizations "
   ]
  },
  {
   "cell_type": "markdown",
   "id": "8f16b55b-665c-45db-b951-d553dd482756",
   "metadata": {
    "tags": []
   },
   "source": [
    "## 1. Country Rankings"
   ]
  },
  {
   "cell_type": "markdown",
   "id": "145d5c10-bc55-4caf-afa5-dcae0a75dd55",
   "metadata": {
    "tags": []
   },
   "source": [
    "### 1 (a)"
   ]
  },
  {
   "cell_type": "code",
   "execution_count": 578,
   "id": "e54a803a-3dc0-4a6f-ba2f-e2c808c6da6f",
   "metadata": {},
   "outputs": [
    {
     "name": "stdout",
     "output_type": "stream",
     "text": [
      "Country\n",
      "Trinidad and Tobago                 321\n",
      "Guinea                              318\n",
      "Cape Verde                          314\n",
      "Maldives                            311\n",
      "Finland                             310\n",
      "Democratic Republic of the Congo    308\n",
      "Samoa                               306\n",
      "Malta                               305\n",
      "China                               303\n",
      "South Sudan                         302\n",
      "Name: Country, dtype: int64\n"
     ]
    },
    {
     "data": {
      "image/png": "[encoded data removed]",
      "text/plain": [
       "<Figure size 1440x720 with 1 Axes>"
      ]
     },
     "metadata": {},
     "output_type": "display_data"
    }
   ],
   "source": [
    "# finding the top 10 countries with the most number of transcations\n",
    "Top10 = (MMClean['Country'].groupby(MMClean['Country']).count().nlargest(10))\n",
    "print(Top10)\n",
    "\n",
    "# making a bar chart \n",
    "plt.figure(figsize=(20,10))\n",
    "sns.barplot(Top10.index, Top10.values)\n",
    "plt.title('Top 10 Countries', fontsize = 20)\n",
    "plt.xlabel('Country', fontsize=15)\n",
    "plt.ylabel('Count of Sales Transcation', fontsize = 15)\n",
    "plt.show()"
   ]
  },
  {
   "cell_type": "markdown",
   "id": "36d56037-d911-4bf5-a77c-06ab66bfbb3c",
   "metadata": {
    "tags": []
   },
   "source": [
    "### 1 (b)"
   ]
  },
  {
   "cell_type": "code",
   "execution_count": 548,
   "id": "8aeaaf76-0901-4280-8f41-1df81a4584a7",
   "metadata": {},
   "outputs": [],
   "source": [
    "# creating a new text file with our findings \n",
    "# appended the reasons to build a new shipping center in Cape Verde\n",
    "with open('MarvelMart/MM_Rankings.txt','w+') as rankings: \n",
    "    rankings.writelines('Countries Most Sales Transcations: \\n')\n",
    "\n",
    "    for x,y in Top10.items():\n",
    "        rankings.writelines(f'{x}: {y}\\n') \n",
    "\n",
    "with open('MarvelMart/MM_Rankings.txt','a') as rankings:\n",
    "    rankings.write(\n",
    "'''The country we should build our shipping center in is Cape Verde \n",
    "because we found that Cape Verde has the largest number of sales transcations, at 314 \n",
    "sales transactions and it ranked third overall based on the number of sales transactions\n",
    "out of all the countries and it has the highest number of sales transactions in countries \n",
    "that does not have any shipping center. As such, we should build one there\n",
    "as soon as possible. \\n''' )\n",
    "\n",
    "\n"
   ]
  },
  {
   "cell_type": "markdown",
   "id": "a29e221f-6bb6-425d-9570-717a46a95e67",
   "metadata": {
    "tags": []
   },
   "source": [
    "## 2. Count of Sales Channels & Order Priorities"
   ]
  },
  {
   "cell_type": "markdown",
   "id": "ecabdeb1-87e1-478e-b0de-19406bb08698",
   "metadata": {},
   "source": [
    "### 2 (a)"
   ]
  },
  {
   "cell_type": "code",
   "execution_count": 549,
   "id": "27d8681f-1205-40a9-9484-327d5eb3c577",
   "metadata": {},
   "outputs": [
    {
     "name": "stdout",
     "output_type": "stream",
     "text": [
      "Sales Channel\n",
      "Offline    19788\n",
      "Online     30183\n",
      "Name: Sales Channel, dtype: int64\n"
     ]
    }
   ],
   "source": [
    "# findng the count for how many online and office orders we take \n",
    "OnOff = (MMClean['Sales Channel'].groupby(MMClean['Sales Channel']).count())\n",
    "print(OnOff)"
   ]
  },
  {
   "cell_type": "markdown",
   "id": "1682c445-5b7d-4899-9183-57b84ba7e917",
   "metadata": {},
   "source": [
    "### 2 (b)"
   ]
  },
  {
   "cell_type": "code",
   "execution_count": 550,
   "id": "d9b49131-768d-47d1-ba0d-42397aedb3c5",
   "metadata": {},
   "outputs": [
    {
     "name": "stdout",
     "output_type": "stream",
     "text": [
      "Order Priority\n",
      "C     5012\n",
      "H    15094\n",
      "L     9984\n",
      "M    19881\n",
      "Name: Order Priority, dtype: int64\n"
     ]
    }
   ],
   "source": [
    "# find the count of the different Order Priority Types:\n",
    "PrioType = (MMClean['Order Priority'].groupby(MMClean['Order Priority']).count())\n",
    "print(PrioType)"
   ]
  },
  {
   "cell_type": "markdown",
   "id": "501281ae-6782-47e1-9c5a-1b19068dae9d",
   "metadata": {},
   "source": [
    "### 2 (c)"
   ]
  },
  {
   "cell_type": "code",
   "execution_count": 579,
   "id": "3d32a2f4-ce84-44c4-a317-970601c72287",
   "metadata": {},
   "outputs": [
    {
     "data": {
      "image/png": "[encoded data removed]",
      "text/plain": [
       "<Figure size 432x432 with 1 Axes>"
      ]
     },
     "metadata": {},
     "output_type": "display_data"
    }
   ],
   "source": [
    "# Create a pie chart for Sales Channel Types:\n",
    "colors = ['red', 'orange']\n",
    "plt.figure(figsize=(6,6))\n",
    "plt.pie(OnOff, labels= OnOff.index,shadow=True,colors = colors,autopct='%.2f%%')\n",
    "plt.title('Sales Channel', fontsize = 15)\n",
    "plt.legend(loc=2, title = 'Method of Sale')\n",
    "plt.show()"
   ]
  },
  {
   "cell_type": "code",
   "execution_count": 581,
   "id": "c18fdb2e-ffac-48e8-bbc1-ec4993ec692b",
   "metadata": {},
   "outputs": [
    {
     "data": {
      "image/png": "[encoded data removed]",
      "text/plain": [
       "<Figure size 432x432 with 1 Axes>"
      ]
     },
     "metadata": {},
     "output_type": "display_data"
    }
   ],
   "source": [
    "# Create a pie chart for Order Priority\n",
    "colors = ['red', 'orange', '#87ceeb', '#90EE90']\n",
    "plt.figure(figsize=(6,6))\n",
    "plt.pie(PrioType, labels = PrioType.index, shadow =True, colors=colors, autopct = '%.2f%%')\n",
    "plt.title('Order Priority Types', fontsize = 15)\n",
    "plt.legend(loc =2, title = 'Priority Types')\n",
    "plt.show()"
   ]
  },
  {
   "cell_type": "markdown",
   "id": "21294238-f957-4bd5-af1f-588baae69272",
   "metadata": {},
   "source": [
    "### 2 (d)"
   ]
  },
  {
   "cell_type": "code",
   "execution_count": 553,
   "id": "fbba1b52-7a53-43d4-b308-c0656a7b0d03",
   "metadata": {},
   "outputs": [],
   "source": [
    "with open('MarvelMart/MM_Rankings.txt','a') as rankings:\n",
    "    \n",
    "    def lineWriter(n,line,v):\n",
    "        n.writelines(line+'\\n')\n",
    "        for x,y in v.items():\n",
    "            n.writelines(f'{x}: {y}\\n')\n",
    "            \n",
    "    lineWriter(rankings,'\\nSales Channels:',OnOff.nlargest(2))\n",
    "    rankings.writelines('We do more online sales.\\n')\n",
    "\n",
    "    lineWriter(rankings,'\\nOrder Priorities:', PrioType)\n",
    "    rankings.writelines('We do more M order priorities.\\n')\n",
    "                       \n",
    "  "
   ]
  },
  {
   "cell_type": "markdown",
   "id": "ff222a68-dc84-49dd-834e-e1d13737da21",
   "metadata": {
    "tags": []
   },
   "source": [
    "## 3. Profits by Item Type"
   ]
  },
  {
   "cell_type": "markdown",
   "id": "dcbbf4f4-939d-4eb7-b124-6c334986f458",
   "metadata": {
    "tags": []
   },
   "source": [
    "### 3 (a)"
   ]
  },
  {
   "cell_type": "code",
   "execution_count": 583,
   "id": "725386a8-ef09-4155-a20a-51d04c49fd8a",
   "metadata": {},
   "outputs": [
    {
     "data": {
      "image/png": "[encoded data removed]",
      "text/plain": [
       "<Figure size 1440x1080 with 1 Axes>"
      ]
     },
     "metadata": {},
     "output_type": "display_data"
    }
   ],
   "source": [
    "plt.figure(figsize=(20,15))\n",
    "plt.title('Box Plots of Different Total Profit by Item Types', fontsize = 15)\n",
    "boxPlot = sns.boxplot(MMClean['Item Type'],MMClean['Total Profit'] )"
   ]
  },
  {
   "cell_type": "markdown",
   "id": "5f9e34c4-412c-41d5-877f-34fcd73d91e1",
   "metadata": {
    "tags": []
   },
   "source": [
    "### 3 (b)"
   ]
  },
  {
   "cell_type": "code",
   "execution_count": 555,
   "id": "cdbb6a85-da16-444c-a22f-e673971fc892",
   "metadata": {},
   "outputs": [
    {
     "name": "stdout",
     "output_type": "stream",
     "text": [
      "Item Type\n",
      "Baby Food         1942865748.120\n",
      "Beverages          327559249.080\n",
      "Cereal            1824726412.290\n",
      "Clothes           1520832019.680\n",
      "Cosmetics         3638407966.750\n",
      "Fruits              51010570.920\n",
      "Household         3401180998.060\n",
      "Meat              1196342404.400\n",
      "Office Supplies   2605440187.500\n",
      "Personal Care      535250525.600\n",
      "Snacks            1149715758.720\n",
      "Vegetables        1322639660.240\n",
      "Name: Total Profit, dtype: float64\n"
     ]
    }
   ],
   "source": [
    "# Summing the profits by each item type \n",
    "summation = MMClean['Total Profit'].groupby(MMClean['Item Type']).sum()\n",
    "print(summation)"
   ]
  },
  {
   "cell_type": "markdown",
   "id": "df216da2-2dc9-45c2-9857-b3140c921bb1",
   "metadata": {
    "tags": []
   },
   "source": [
    "### 3 (c)"
   ]
  },
  {
   "cell_type": "code",
   "execution_count": 556,
   "id": "318b292d-2091-4896-8ff2-8553425924d0",
   "metadata": {},
   "outputs": [
    {
     "data": {
      "image/png": "[encoded data removed]",
      "text/plain": [
       "<Figure size 1080x1080 with 1 Axes>"
      ]
     },
     "metadata": {},
     "output_type": "display_data"
    }
   ],
   "source": [
    "# Create a bar plot for the total profits for each item type\n",
    "plt.figure(figsize=(15,15))\n",
    "sns.barplot(summation.index, summation.values)\n",
    "plt.title('Sum of Total Profit for Each Item Type')\n",
    "plt.ylabel('Sum of Total Profit')\n",
    "plt.show()"
   ]
  },
  {
   "cell_type": "markdown",
   "id": "e24f542f-fe71-4d8d-a194-4b9cf1fc92f2",
   "metadata": {
    "tags": []
   },
   "source": [
    "### 3 (d)"
   ]
  },
  {
   "cell_type": "code",
   "execution_count": 557,
   "id": "e260aa08-c2c8-4b45-b9a8-81867d8769ae",
   "metadata": {},
   "outputs": [
    {
     "name": "stdout",
     "output_type": "stream",
     "text": [
      "Item Type\n",
      "Cosmetics         3638407966.750\n",
      "Household         3401180998.060\n",
      "Office Supplies   2605440187.500\n",
      "Name: Total Profit, dtype: float64\n"
     ]
    }
   ],
   "source": [
    "# finding top 3 item types based on \n",
    "Top3 = summation.nlargest(3)\n",
    "print(Top3)"
   ]
  },
  {
   "cell_type": "markdown",
   "id": "e4a7a8be-33fc-49f1-92d0-5c1b464b7f9e",
   "metadata": {},
   "source": [
    "### 3 (e)"
   ]
  },
  {
   "cell_type": "code",
   "execution_count": 558,
   "id": "9a5e53e1-ed5a-482c-b1b8-47f4b70ef757",
   "metadata": {},
   "outputs": [],
   "source": [
    "with open('MarvelMart/MM_Rankings.txt','a') as rankings:\n",
    "    \n",
    "    lineWriter(rankings, '\\nHighest Selling Items:',Top3)\n",
    "    rankings.writelines(f'We profited from Cosmetics the most')"
   ]
  },
  {
   "cell_type": "markdown",
   "id": "59d58d66-b870-4d2e-b20c-6d814d9cf3df",
   "metadata": {},
   "source": [
    "### 3 (f)"
   ]
  },
  {
   "cell_type": "markdown",
   "id": "92110706-5d42-4bc3-b159-14702f585b31",
   "metadata": {},
   "source": [
    "Based on the box plot from question 3.1, we see that Cosmetics has the highest range, as well as the highest maximum. They also have the highest median, this generally means that cosmetics generally has the most total profit compared to other item types. Moreover, looking at the spread of each item type, we see that cosmetics still has the highest dispersion meaning that the total profit of the cosmetics item type is more spread out in terms of total profit. We also see that Household and Office Supplies seems to have quite a large median compared to other data types. From this, we see that generally, Cosmetics, Household and Office Supplies makes us comparatively higher total profit. We need to dig deeper into these categories to see what kind of prodit margins, number of sales, marketing stretegies are used for these item types and try to apply them to other catergories such as Beverages, Personal Care which seems to be generally making less comparative total profit. Looking at the box plot, Fruits also has the smallest spread, and median, this means that generally, the total profits are smaller values and are within that small range. It was very suprising how much less profit fruits is making in general, compared to other item types. We need to immedately look into that product type. We need to understand why is it making us such little profit compared to other item types. We need to know if it is because of high cost of goods or if the demand is for this product is low. We should consider either revamping fruits to make it more appealing or we should look for new suppliers so that the input cost will be lower, increasing our total profit. If fruits starts to have no profit, or lose money, we should consider removing it from our product line. "
   ]
  },
  {
   "cell_type": "markdown",
   "id": "b2550bf7-af46-4a6d-b07b-3ad1951e4219",
   "metadata": {
    "tags": []
   },
   "source": [
    "## 4. Descriptive Statistics"
   ]
  },
  {
   "cell_type": "markdown",
   "id": "b2d27ad3-70c4-4169-973b-913706e0ba77",
   "metadata": {},
   "source": [
    "### 4 (a)"
   ]
  },
  {
   "cell_type": "code",
   "execution_count": 538,
   "id": "f6cad33d-a9fb-4ff6-8355-789a85518b85",
   "metadata": {},
   "outputs": [],
   "source": [
    "# making a function to \n",
    "dictionary = {}\n",
    "def seriesMaker(data, dictionary):\n",
    "    dictionary = {}\n",
    "    for x, y in data.items():\n",
    "        if x == 'Units Sold':\n",
    "            dictionary[x]= y\n",
    "        if x == 'Unit Cost':\n",
    "            dictionary[x]= y\n",
    "        if x == 'Total Revenue':\n",
    "            dictionary[x] = y\n",
    "        if x == 'Total Cost':\n",
    "            dictionary[x] = y\n",
    "        if x == 'Total Profit':\n",
    "            dictionary[x] = y\n",
    "        dictionary = pd.Series(dictionary)\n",
    "    return dictionary\n"
   ]
  },
  {
   "cell_type": "code",
   "execution_count": 539,
   "id": "2b8776a2-f5cd-4cae-9e41-6ea8c1c5c5bb",
   "metadata": {},
   "outputs": [
    {
     "name": "stdout",
     "output_type": "stream",
     "text": [
      "Units Sold        249818150.000\n",
      "Unit Cost           9360768.320\n",
      "Total Revenue   66145004417.170\n",
      "Total Cost      46629032915.810\n",
      "Total Profit    19515971501.360\n",
      "dtype: float64\n"
     ]
    }
   ],
   "source": [
    "# Calculating Sums \n",
    "MMCleanSum = MMClean.sum(axis=0)\n",
    "sums = seriesMaker(MMCleanSum,dictionary)\n",
    "print(sums)"
   ]
  },
  {
   "cell_type": "markdown",
   "id": "e5099d09-c936-49ea-93a0-7440804569f9",
   "metadata": {},
   "source": [
    "### 4 (b)"
   ]
  },
  {
   "cell_type": "code",
   "execution_count": 561,
   "id": "cde6c809-6578-49c4-9c0b-a4894ddbe77e",
   "metadata": {},
   "outputs": [
    {
     "name": "stdout",
     "output_type": "stream",
     "text": [
      "Units Sold         4999.263\n",
      "Unit Cost           187.324\n",
      "Total Revenue   1323667.816\n",
      "Total Cost       933121.869\n",
      "Total Profit     390545.947\n",
      "dtype: float64\n"
     ]
    }
   ],
   "source": [
    "# Calculating Averages \n",
    "MMCleanAverage = MMClean.mean(axis=0)\n",
    "means = seriesMaker(MMCleanAverage,dictionary)\n",
    "print(means)"
   ]
  },
  {
   "cell_type": "markdown",
   "id": "092e4fb5-9c40-4c17-bf81-99fa21e6512c",
   "metadata": {},
   "source": [
    "### 4 (c)"
   ]
  },
  {
   "cell_type": "code",
   "execution_count": 562,
   "id": "35f63325-d64b-4743-b148-21828cc8506b",
   "metadata": {},
   "outputs": [
    {
     "name": "stdout",
     "output_type": "stream",
     "text": [
      "Units Sold        10000.000\n",
      "Unit Cost           524.960\n",
      "Total Revenue   6682031.730\n",
      "Total Cost      5249075.040\n",
      "Total Profit    1738178.390\n",
      "dtype: float64\n"
     ]
    }
   ],
   "source": [
    "# Calculating Maximums\n",
    "MMCleanMax = MMClean.max(axis=0)\n",
    "maxes = seriesMaker(MMCleanMax, dictionary)\n",
    "print(maxes)"
   ]
  },
  {
   "cell_type": "markdown",
   "id": "fa3dd8f9-a83c-4168-89b1-2d444963ecfd",
   "metadata": {},
   "source": [
    "### 4 (d)"
   ]
  },
  {
   "cell_type": "code",
   "execution_count": 563,
   "id": "c84f2529-e627-4e73-b861-2f898b27a43a",
   "metadata": {},
   "outputs": [
    {
     "name": "stdout",
     "output_type": "stream",
     "text": [
      "Total Revenue   66145004417.170\n",
      "Total Cost      46629032915.810\n",
      "Total Profit    19515971501.360\n",
      "dtype: float64\n",
      "\n",
      "Total Revenue   6682031.730\n",
      "Total Cost      5249075.040\n",
      "Total Profit    1738178.390\n",
      "dtype: float64\n",
      "\n",
      "Total Revenue   1323667.816\n",
      "Total Cost       933121.869\n",
      "Total Profit     390545.947\n",
      "dtype: float64\n"
     ]
    }
   ],
   "source": [
    "#dropping Units Sold and Unit Cost from sums, means, and maxs\n",
    "def dropper(x):\n",
    "    return x.drop(['Units Sold', 'Unit Cost'])\n",
    "\n",
    "Nmeans = dropper(means)\n",
    "Nsums = dropper(sums)\n",
    "Nmaxes = dropper(maxes)\n",
    "\n",
    "print(Nsums)\n",
    "print()\n",
    "print(Nmaxes)\n",
    "print()\n",
    "print(Nmeans)\n"
   ]
  },
  {
   "cell_type": "code",
   "execution_count": 603,
   "id": "a555d99c-6694-4690-a3fc-e35201b18ea4",
   "metadata": {},
   "outputs": [
    {
     "data": {
      "image/png": "[encoded data removed]",
      "text/plain": [
       "<Figure size 864x360 with 1 Axes>"
      ]
     },
     "metadata": {},
     "output_type": "display_data"
    }
   ],
   "source": [
    "plt.figure(figsize=(12,5))\n",
    "plt.title('Sums')\n",
    "plt.xlabel('Requested Columns')\n",
    "plt.ylabel('Results($)')\n",
    "linewidth =20000\n",
    "# making line graph for sums \n",
    "sns.lineplot(Nsums.index, Nsums.values)\n",
    "plt.show()"
   ]
  },
  {
   "cell_type": "code",
   "execution_count": 604,
   "id": "25e0f131-aba5-4875-9d5a-ac97fde6c31b",
   "metadata": {},
   "outputs": [
    {
     "data": {
      "image/png": "[encoded data removed]",
      "text/plain": [
       "<Figure size 864x360 with 1 Axes>"
      ]
     },
     "metadata": {},
     "output_type": "display_data"
    }
   ],
   "source": [
    "# making a line graph for means and max \n",
    "plt.figure(figsize=(12,5))\n",
    "plt.plot(Nmeans.index, Nmeans.values, label = 'Averages',color = 'r')\n",
    "plt.plot(Nmaxes.index, Nmaxes.values, label = 'Maximums', color = 'g')\n",
    "plt.title('Maximums and Averages')\n",
    "plt.xlabel('Requested Columns')\n",
    "plt.ylabel('Results($)')\n",
    "plt.legend()\n",
    "plt.show()"
   ]
  },
  {
   "cell_type": "markdown",
   "id": "11913008-3ac6-46b6-9922-5884b023f896",
   "metadata": {},
   "source": [
    "4 (e)"
   ]
  },
  {
   "cell_type": "code",
   "execution_count": 566,
   "id": "428b01ab-54cf-478b-9451-b4702c6184c9",
   "metadata": {},
   "outputs": [],
   "source": [
    "with open('MarvelMart/MM_Calc.txt','w+') as Calc:\n",
    "    lineWriter(Calc,'Sums:',sums)\n",
    "    lineWriter(Calc,'\\nAverages:', means)\n",
    "    lineWriter(Calc,'\\nMaximums:', maxes)\n",
    "\n",
    "    "
   ]
  },
  {
   "cell_type": "markdown",
   "id": "95041993-6e93-4353-b2b4-cb9fa20433ce",
   "metadata": {},
   "source": [
    "## Part 3: Cross-Reference Statistics"
   ]
  },
  {
   "cell_type": "markdown",
   "id": "c42c7a01-57a6-463e-aab1-8fc13f5af712",
   "metadata": {},
   "source": [
    "### 1. Making a list of regions and the countries with in them"
   ]
  },
  {
   "cell_type": "code",
   "execution_count": 567,
   "id": "33c0d4b7-2b64-4aaa-924d-dd9a49eda01a",
   "metadata": {},
   "outputs": [
    {
     "data": {
      "text/html": [
       "<div>\n",
       "<style scoped>\n",
       "    .dataframe tbody tr th:only-of-type {\n",
       "        vertical-align: middle;\n",
       "    }\n",
       "\n",
       "    .dataframe tbody tr th {\n",
       "        vertical-align: top;\n",
       "    }\n",
       "\n",
       "    .dataframe thead th {\n",
       "        text-align: right;\n",
       "    }\n",
       "</style>\n",
       "<table border=\"1\" class=\"dataframe\">\n",
       "  <thead>\n",
       "    <tr style=\"text-align: right;\">\n",
       "      <th></th>\n",
       "      <th>Asia</th>\n",
       "      <th>Australia and Oceania</th>\n",
       "      <th>Central America and the Caribbean</th>\n",
       "      <th>Europe</th>\n",
       "      <th>Middle East and North Africa</th>\n",
       "      <th>North America</th>\n",
       "      <th>Sub-Saharan Africa</th>\n",
       "    </tr>\n",
       "  </thead>\n",
       "  <tbody>\n",
       "    <tr>\n",
       "      <th>0</th>\n",
       "      <td>Indonesia</td>\n",
       "      <td>Tuvalu</td>\n",
       "      <td>Antigua and Barbuda</td>\n",
       "      <td>Iceland</td>\n",
       "      <td>Turkey</td>\n",
       "      <td>Greenland</td>\n",
       "      <td>Namibia</td>\n",
       "    </tr>\n",
       "    <tr>\n",
       "      <th>1</th>\n",
       "      <td>India</td>\n",
       "      <td>Samoa</td>\n",
       "      <td>Saint Kitts and Nevis</td>\n",
       "      <td>Russia</td>\n",
       "      <td>Iraq</td>\n",
       "      <td>United States of America</td>\n",
       "      <td>Djibouti</td>\n",
       "    </tr>\n",
       "    <tr>\n",
       "      <th>2</th>\n",
       "      <td>South Korea</td>\n",
       "      <td>Fiji</td>\n",
       "      <td>Saint Lucia</td>\n",
       "      <td>Moldova</td>\n",
       "      <td>Kuwait</td>\n",
       "      <td>Canada</td>\n",
       "      <td>Cameroon</td>\n",
       "    </tr>\n",
       "    <tr>\n",
       "      <th>3</th>\n",
       "      <td>Kazakhstan</td>\n",
       "      <td>Marshall Islands</td>\n",
       "      <td>Trinidad and Tobago</td>\n",
       "      <td>Malta</td>\n",
       "      <td>Tunisia</td>\n",
       "      <td>Mexico</td>\n",
       "      <td>Nigeria</td>\n",
       "    </tr>\n",
       "    <tr>\n",
       "      <th>4</th>\n",
       "      <td>Mongolia</td>\n",
       "      <td>New Zealand</td>\n",
       "      <td>Guatemala</td>\n",
       "      <td>Greece</td>\n",
       "      <td>Yemen</td>\n",
       "      <td>None</td>\n",
       "      <td>Senegal</td>\n",
       "    </tr>\n",
       "    <tr>\n",
       "      <th>5</th>\n",
       "      <td>Malaysia</td>\n",
       "      <td>Solomon Islands</td>\n",
       "      <td>Saint Vincent and the Grenadines</td>\n",
       "      <td>Ukraine</td>\n",
       "      <td>United Arab Emirates</td>\n",
       "      <td>None</td>\n",
       "      <td>Rwanda</td>\n",
       "    </tr>\n",
       "    <tr>\n",
       "      <th>6</th>\n",
       "      <td>Singapore</td>\n",
       "      <td>Vanuatu</td>\n",
       "      <td>Jamaica</td>\n",
       "      <td>Finland</td>\n",
       "      <td>Bahrain</td>\n",
       "      <td>None</td>\n",
       "      <td>South Sudan</td>\n",
       "    </tr>\n",
       "    <tr>\n",
       "      <th>7</th>\n",
       "      <td>Brunei</td>\n",
       "      <td>Australia</td>\n",
       "      <td>Grenada</td>\n",
       "      <td>United Kingdom</td>\n",
       "      <td>Pakistan</td>\n",
       "      <td>None</td>\n",
       "      <td>Guinea</td>\n",
       "    </tr>\n",
       "    <tr>\n",
       "      <th>8</th>\n",
       "      <td>Kyrgyzstan</td>\n",
       "      <td>Papua New Guinea</td>\n",
       "      <td>Honduras</td>\n",
       "      <td>San Marino</td>\n",
       "      <td>Lebanon</td>\n",
       "      <td>None</td>\n",
       "      <td>Botswana</td>\n",
       "    </tr>\n",
       "    <tr>\n",
       "      <th>9</th>\n",
       "      <td>Taiwan</td>\n",
       "      <td>Nauru</td>\n",
       "      <td>Belize</td>\n",
       "      <td>Kosovo</td>\n",
       "      <td>Somalia</td>\n",
       "      <td>None</td>\n",
       "      <td>Sudan</td>\n",
       "    </tr>\n",
       "    <tr>\n",
       "      <th>10</th>\n",
       "      <td>Sri Lanka</td>\n",
       "      <td>Kiribati</td>\n",
       "      <td>Barbados</td>\n",
       "      <td>Hungary</td>\n",
       "      <td>Egypt</td>\n",
       "      <td>None</td>\n",
       "      <td>Tanzania</td>\n",
       "    </tr>\n",
       "    <tr>\n",
       "      <th>11</th>\n",
       "      <td>North Korea</td>\n",
       "      <td>Tonga</td>\n",
       "      <td>El Salvador</td>\n",
       "      <td>Serbia</td>\n",
       "      <td>Iran</td>\n",
       "      <td>None</td>\n",
       "      <td>Sao Tome and Principe</td>\n",
       "    </tr>\n",
       "    <tr>\n",
       "      <th>12</th>\n",
       "      <td>Cambodia</td>\n",
       "      <td>Palau</td>\n",
       "      <td>Dominican Republic</td>\n",
       "      <td>Poland</td>\n",
       "      <td>Jordan</td>\n",
       "      <td>None</td>\n",
       "      <td>Cape Verde</td>\n",
       "    </tr>\n",
       "    <tr>\n",
       "      <th>13</th>\n",
       "      <td>Tajikistan</td>\n",
       "      <td>East Timor</td>\n",
       "      <td>The Bahamas</td>\n",
       "      <td>Lithuania</td>\n",
       "      <td>Syria</td>\n",
       "      <td>None</td>\n",
       "      <td>Guinea-Bissau</td>\n",
       "    </tr>\n",
       "    <tr>\n",
       "      <th>14</th>\n",
       "      <td>Turkmenistan</td>\n",
       "      <td>Federated States of Micronesia</td>\n",
       "      <td>Cuba</td>\n",
       "      <td>Portugal</td>\n",
       "      <td>Morocco</td>\n",
       "      <td>None</td>\n",
       "      <td>South Africa</td>\n",
       "    </tr>\n",
       "    <tr>\n",
       "      <th>15</th>\n",
       "      <td>Maldives</td>\n",
       "      <td>None</td>\n",
       "      <td>Nicaragua</td>\n",
       "      <td>Georgia</td>\n",
       "      <td>Afghanistan</td>\n",
       "      <td>None</td>\n",
       "      <td>Sierra Leone</td>\n",
       "    </tr>\n",
       "    <tr>\n",
       "      <th>16</th>\n",
       "      <td>Laos</td>\n",
       "      <td>None</td>\n",
       "      <td>Costa Rica</td>\n",
       "      <td>Bulgaria</td>\n",
       "      <td>Azerbaijan</td>\n",
       "      <td>None</td>\n",
       "      <td>Mozambique</td>\n",
       "    </tr>\n",
       "    <tr>\n",
       "      <th>17</th>\n",
       "      <td>Myanmar</td>\n",
       "      <td>None</td>\n",
       "      <td>Panama</td>\n",
       "      <td>Austria</td>\n",
       "      <td>Saudi Arabia</td>\n",
       "      <td>None</td>\n",
       "      <td>Chad</td>\n",
       "    </tr>\n",
       "    <tr>\n",
       "      <th>18</th>\n",
       "      <td>Bhutan</td>\n",
       "      <td>None</td>\n",
       "      <td>Dominica</td>\n",
       "      <td>Romania</td>\n",
       "      <td>Libya</td>\n",
       "      <td>None</td>\n",
       "      <td>Togo</td>\n",
       "    </tr>\n",
       "    <tr>\n",
       "      <th>19</th>\n",
       "      <td>Vietnam</td>\n",
       "      <td>None</td>\n",
       "      <td>Haiti</td>\n",
       "      <td>Denmark</td>\n",
       "      <td>Algeria</td>\n",
       "      <td>None</td>\n",
       "      <td>Mali</td>\n",
       "    </tr>\n",
       "    <tr>\n",
       "      <th>20</th>\n",
       "      <td>Japan</td>\n",
       "      <td>None</td>\n",
       "      <td>None</td>\n",
       "      <td>Luxembourg</td>\n",
       "      <td>Oman</td>\n",
       "      <td>None</td>\n",
       "      <td>Equatorial Guinea</td>\n",
       "    </tr>\n",
       "    <tr>\n",
       "      <th>21</th>\n",
       "      <td>Philippines</td>\n",
       "      <td>None</td>\n",
       "      <td>None</td>\n",
       "      <td>Croatia</td>\n",
       "      <td>Israel</td>\n",
       "      <td>None</td>\n",
       "      <td>Eritrea</td>\n",
       "    </tr>\n",
       "    <tr>\n",
       "      <th>22</th>\n",
       "      <td>China</td>\n",
       "      <td>None</td>\n",
       "      <td>None</td>\n",
       "      <td>Sweden</td>\n",
       "      <td>Qatar</td>\n",
       "      <td>None</td>\n",
       "      <td>Niger</td>\n",
       "    </tr>\n",
       "    <tr>\n",
       "      <th>23</th>\n",
       "      <td>Bangladesh</td>\n",
       "      <td>None</td>\n",
       "      <td>None</td>\n",
       "      <td>Cyprus</td>\n",
       "      <td>None</td>\n",
       "      <td>None</td>\n",
       "      <td>Madagascar</td>\n",
       "    </tr>\n",
       "    <tr>\n",
       "      <th>24</th>\n",
       "      <td>Uzbekistan</td>\n",
       "      <td>None</td>\n",
       "      <td>None</td>\n",
       "      <td>Montenegro</td>\n",
       "      <td>None</td>\n",
       "      <td>None</td>\n",
       "      <td>Gabon</td>\n",
       "    </tr>\n",
       "    <tr>\n",
       "      <th>25</th>\n",
       "      <td>Thailand</td>\n",
       "      <td>None</td>\n",
       "      <td>None</td>\n",
       "      <td>Vatican City</td>\n",
       "      <td>None</td>\n",
       "      <td>None</td>\n",
       "      <td>Angola</td>\n",
       "    </tr>\n",
       "    <tr>\n",
       "      <th>26</th>\n",
       "      <td>Nepal</td>\n",
       "      <td>None</td>\n",
       "      <td>None</td>\n",
       "      <td>France</td>\n",
       "      <td>None</td>\n",
       "      <td>None</td>\n",
       "      <td>Ethiopia</td>\n",
       "    </tr>\n",
       "    <tr>\n",
       "      <th>27</th>\n",
       "      <td>None</td>\n",
       "      <td>None</td>\n",
       "      <td>None</td>\n",
       "      <td>Netherlands</td>\n",
       "      <td>None</td>\n",
       "      <td>None</td>\n",
       "      <td>Liberia</td>\n",
       "    </tr>\n",
       "    <tr>\n",
       "      <th>28</th>\n",
       "      <td>None</td>\n",
       "      <td>None</td>\n",
       "      <td>None</td>\n",
       "      <td>Estonia</td>\n",
       "      <td>None</td>\n",
       "      <td>None</td>\n",
       "      <td>Democratic Republic of the Congo</td>\n",
       "    </tr>\n",
       "    <tr>\n",
       "      <th>29</th>\n",
       "      <td>None</td>\n",
       "      <td>None</td>\n",
       "      <td>None</td>\n",
       "      <td>Bosnia and Herzegovina</td>\n",
       "      <td>None</td>\n",
       "      <td>None</td>\n",
       "      <td>Seychelles</td>\n",
       "    </tr>\n",
       "    <tr>\n",
       "      <th>30</th>\n",
       "      <td>None</td>\n",
       "      <td>None</td>\n",
       "      <td>None</td>\n",
       "      <td>Monaco</td>\n",
       "      <td>None</td>\n",
       "      <td>None</td>\n",
       "      <td>Mauritius</td>\n",
       "    </tr>\n",
       "    <tr>\n",
       "      <th>31</th>\n",
       "      <td>None</td>\n",
       "      <td>None</td>\n",
       "      <td>None</td>\n",
       "      <td>Germany</td>\n",
       "      <td>None</td>\n",
       "      <td>None</td>\n",
       "      <td>Comoros</td>\n",
       "    </tr>\n",
       "    <tr>\n",
       "      <th>32</th>\n",
       "      <td>None</td>\n",
       "      <td>None</td>\n",
       "      <td>None</td>\n",
       "      <td>Slovenia</td>\n",
       "      <td>None</td>\n",
       "      <td>None</td>\n",
       "      <td>Burundi</td>\n",
       "    </tr>\n",
       "    <tr>\n",
       "      <th>33</th>\n",
       "      <td>None</td>\n",
       "      <td>None</td>\n",
       "      <td>None</td>\n",
       "      <td>Ireland</td>\n",
       "      <td>None</td>\n",
       "      <td>None</td>\n",
       "      <td>Zambia</td>\n",
       "    </tr>\n",
       "    <tr>\n",
       "      <th>34</th>\n",
       "      <td>None</td>\n",
       "      <td>None</td>\n",
       "      <td>None</td>\n",
       "      <td>Latvia</td>\n",
       "      <td>None</td>\n",
       "      <td>None</td>\n",
       "      <td>Lesotho</td>\n",
       "    </tr>\n",
       "    <tr>\n",
       "      <th>35</th>\n",
       "      <td>None</td>\n",
       "      <td>None</td>\n",
       "      <td>None</td>\n",
       "      <td>Belgium</td>\n",
       "      <td>None</td>\n",
       "      <td>None</td>\n",
       "      <td>The Gambia</td>\n",
       "    </tr>\n",
       "    <tr>\n",
       "      <th>36</th>\n",
       "      <td>None</td>\n",
       "      <td>None</td>\n",
       "      <td>None</td>\n",
       "      <td>Switzerland</td>\n",
       "      <td>None</td>\n",
       "      <td>None</td>\n",
       "      <td>Benin</td>\n",
       "    </tr>\n",
       "    <tr>\n",
       "      <th>37</th>\n",
       "      <td>None</td>\n",
       "      <td>None</td>\n",
       "      <td>None</td>\n",
       "      <td>Italy</td>\n",
       "      <td>None</td>\n",
       "      <td>None</td>\n",
       "      <td>Malawi</td>\n",
       "    </tr>\n",
       "    <tr>\n",
       "      <th>38</th>\n",
       "      <td>None</td>\n",
       "      <td>None</td>\n",
       "      <td>None</td>\n",
       "      <td>Belarus</td>\n",
       "      <td>None</td>\n",
       "      <td>None</td>\n",
       "      <td>Mauritania</td>\n",
       "    </tr>\n",
       "    <tr>\n",
       "      <th>39</th>\n",
       "      <td>None</td>\n",
       "      <td>None</td>\n",
       "      <td>None</td>\n",
       "      <td>Czech Republic</td>\n",
       "      <td>None</td>\n",
       "      <td>None</td>\n",
       "      <td>Central African Republic</td>\n",
       "    </tr>\n",
       "    <tr>\n",
       "      <th>40</th>\n",
       "      <td>None</td>\n",
       "      <td>None</td>\n",
       "      <td>None</td>\n",
       "      <td>Liechtenstein</td>\n",
       "      <td>None</td>\n",
       "      <td>None</td>\n",
       "      <td>Kenya</td>\n",
       "    </tr>\n",
       "    <tr>\n",
       "      <th>41</th>\n",
       "      <td>None</td>\n",
       "      <td>None</td>\n",
       "      <td>None</td>\n",
       "      <td>Macedonia</td>\n",
       "      <td>None</td>\n",
       "      <td>None</td>\n",
       "      <td>Ghana</td>\n",
       "    </tr>\n",
       "    <tr>\n",
       "      <th>42</th>\n",
       "      <td>None</td>\n",
       "      <td>None</td>\n",
       "      <td>None</td>\n",
       "      <td>Slovakia</td>\n",
       "      <td>None</td>\n",
       "      <td>None</td>\n",
       "      <td>Swaziland</td>\n",
       "    </tr>\n",
       "    <tr>\n",
       "      <th>43</th>\n",
       "      <td>None</td>\n",
       "      <td>None</td>\n",
       "      <td>None</td>\n",
       "      <td>Spain</td>\n",
       "      <td>None</td>\n",
       "      <td>None</td>\n",
       "      <td>Burkina Faso</td>\n",
       "    </tr>\n",
       "    <tr>\n",
       "      <th>44</th>\n",
       "      <td>None</td>\n",
       "      <td>None</td>\n",
       "      <td>None</td>\n",
       "      <td>Andorra</td>\n",
       "      <td>None</td>\n",
       "      <td>None</td>\n",
       "      <td>Uganda</td>\n",
       "    </tr>\n",
       "    <tr>\n",
       "      <th>45</th>\n",
       "      <td>None</td>\n",
       "      <td>None</td>\n",
       "      <td>None</td>\n",
       "      <td>Albania</td>\n",
       "      <td>None</td>\n",
       "      <td>None</td>\n",
       "      <td>Zimbabwe</td>\n",
       "    </tr>\n",
       "    <tr>\n",
       "      <th>46</th>\n",
       "      <td>None</td>\n",
       "      <td>None</td>\n",
       "      <td>None</td>\n",
       "      <td>Norway</td>\n",
       "      <td>None</td>\n",
       "      <td>None</td>\n",
       "      <td>Cote d'Ivoire</td>\n",
       "    </tr>\n",
       "    <tr>\n",
       "      <th>47</th>\n",
       "      <td>None</td>\n",
       "      <td>None</td>\n",
       "      <td>None</td>\n",
       "      <td>Armenia</td>\n",
       "      <td>None</td>\n",
       "      <td>None</td>\n",
       "      <td>Republic of the Congo</td>\n",
       "    </tr>\n",
       "  </tbody>\n",
       "</table>\n",
       "</div>"
      ],
      "text/plain": [
       "            Asia           Australia and Oceania  \\\n",
       "0      Indonesia                          Tuvalu   \n",
       "1          India                          Samoa    \n",
       "2    South Korea                            Fiji   \n",
       "3     Kazakhstan                Marshall Islands   \n",
       "4       Mongolia                     New Zealand   \n",
       "5       Malaysia                 Solomon Islands   \n",
       "6      Singapore                         Vanuatu   \n",
       "7         Brunei                       Australia   \n",
       "8     Kyrgyzstan                Papua New Guinea   \n",
       "9         Taiwan                           Nauru   \n",
       "10     Sri Lanka                        Kiribati   \n",
       "11   North Korea                           Tonga   \n",
       "12      Cambodia                           Palau   \n",
       "13    Tajikistan                      East Timor   \n",
       "14  Turkmenistan  Federated States of Micronesia   \n",
       "15      Maldives                            None   \n",
       "16          Laos                            None   \n",
       "17       Myanmar                            None   \n",
       "18        Bhutan                            None   \n",
       "19       Vietnam                            None   \n",
       "20         Japan                            None   \n",
       "21   Philippines                            None   \n",
       "22         China                            None   \n",
       "23    Bangladesh                            None   \n",
       "24    Uzbekistan                            None   \n",
       "25      Thailand                            None   \n",
       "26         Nepal                            None   \n",
       "27          None                            None   \n",
       "28          None                            None   \n",
       "29          None                            None   \n",
       "30          None                            None   \n",
       "31          None                            None   \n",
       "32          None                            None   \n",
       "33          None                            None   \n",
       "34          None                            None   \n",
       "35          None                            None   \n",
       "36          None                            None   \n",
       "37          None                            None   \n",
       "38          None                            None   \n",
       "39          None                            None   \n",
       "40          None                            None   \n",
       "41          None                            None   \n",
       "42          None                            None   \n",
       "43          None                            None   \n",
       "44          None                            None   \n",
       "45          None                            None   \n",
       "46          None                            None   \n",
       "47          None                            None   \n",
       "\n",
       "   Central America and the Caribbean                  Europe  \\\n",
       "0               Antigua and Barbuda                  Iceland   \n",
       "1             Saint Kitts and Nevis                   Russia   \n",
       "2                        Saint Lucia                Moldova    \n",
       "3                Trinidad and Tobago                   Malta   \n",
       "4                          Guatemala                  Greece   \n",
       "5   Saint Vincent and the Grenadines                 Ukraine   \n",
       "6                            Jamaica                 Finland   \n",
       "7                            Grenada          United Kingdom   \n",
       "8                           Honduras              San Marino   \n",
       "9                             Belize                  Kosovo   \n",
       "10                          Barbados                 Hungary   \n",
       "11                       El Salvador                  Serbia   \n",
       "12                Dominican Republic                  Poland   \n",
       "13                       The Bahamas               Lithuania   \n",
       "14                              Cuba                Portugal   \n",
       "15                         Nicaragua                 Georgia   \n",
       "16                        Costa Rica                Bulgaria   \n",
       "17                            Panama                 Austria   \n",
       "18                          Dominica                 Romania   \n",
       "19                             Haiti                 Denmark   \n",
       "20                              None              Luxembourg   \n",
       "21                              None                 Croatia   \n",
       "22                              None                  Sweden   \n",
       "23                              None                  Cyprus   \n",
       "24                              None              Montenegro   \n",
       "25                              None            Vatican City   \n",
       "26                              None                  France   \n",
       "27                              None             Netherlands   \n",
       "28                              None                 Estonia   \n",
       "29                              None  Bosnia and Herzegovina   \n",
       "30                              None                  Monaco   \n",
       "31                              None                 Germany   \n",
       "32                              None                Slovenia   \n",
       "33                              None                 Ireland   \n",
       "34                              None                  Latvia   \n",
       "35                              None                 Belgium   \n",
       "36                              None             Switzerland   \n",
       "37                              None                   Italy   \n",
       "38                              None                 Belarus   \n",
       "39                              None          Czech Republic   \n",
       "40                              None           Liechtenstein   \n",
       "41                              None               Macedonia   \n",
       "42                              None                Slovakia   \n",
       "43                              None                   Spain   \n",
       "44                              None                 Andorra   \n",
       "45                              None                 Albania   \n",
       "46                              None                  Norway   \n",
       "47                              None                 Armenia   \n",
       "\n",
       "   Middle East and North Africa             North America  \\\n",
       "0                        Turkey                 Greenland   \n",
       "1                          Iraq  United States of America   \n",
       "2                        Kuwait                    Canada   \n",
       "3                      Tunisia                     Mexico   \n",
       "4                         Yemen                      None   \n",
       "5          United Arab Emirates                      None   \n",
       "6                       Bahrain                      None   \n",
       "7                      Pakistan                      None   \n",
       "8                       Lebanon                      None   \n",
       "9                       Somalia                      None   \n",
       "10                        Egypt                      None   \n",
       "11                         Iran                      None   \n",
       "12                       Jordan                      None   \n",
       "13                        Syria                      None   \n",
       "14                      Morocco                      None   \n",
       "15                  Afghanistan                      None   \n",
       "16                   Azerbaijan                      None   \n",
       "17                 Saudi Arabia                      None   \n",
       "18                        Libya                      None   \n",
       "19                      Algeria                      None   \n",
       "20                         Oman                      None   \n",
       "21                       Israel                      None   \n",
       "22                        Qatar                      None   \n",
       "23                         None                      None   \n",
       "24                         None                      None   \n",
       "25                         None                      None   \n",
       "26                         None                      None   \n",
       "27                         None                      None   \n",
       "28                         None                      None   \n",
       "29                         None                      None   \n",
       "30                         None                      None   \n",
       "31                         None                      None   \n",
       "32                         None                      None   \n",
       "33                         None                      None   \n",
       "34                         None                      None   \n",
       "35                         None                      None   \n",
       "36                         None                      None   \n",
       "37                         None                      None   \n",
       "38                         None                      None   \n",
       "39                         None                      None   \n",
       "40                         None                      None   \n",
       "41                         None                      None   \n",
       "42                         None                      None   \n",
       "43                         None                      None   \n",
       "44                         None                      None   \n",
       "45                         None                      None   \n",
       "46                         None                      None   \n",
       "47                         None                      None   \n",
       "\n",
       "                  Sub-Saharan Africa  \n",
       "0                            Namibia  \n",
       "1                           Djibouti  \n",
       "2                           Cameroon  \n",
       "3                            Nigeria  \n",
       "4                            Senegal  \n",
       "5                             Rwanda  \n",
       "6                        South Sudan  \n",
       "7                             Guinea  \n",
       "8                           Botswana  \n",
       "9                              Sudan  \n",
       "10                          Tanzania  \n",
       "11             Sao Tome and Principe  \n",
       "12                        Cape Verde  \n",
       "13                     Guinea-Bissau  \n",
       "14                      South Africa  \n",
       "15                      Sierra Leone  \n",
       "16                        Mozambique  \n",
       "17                              Chad  \n",
       "18                              Togo  \n",
       "19                              Mali  \n",
       "20                 Equatorial Guinea  \n",
       "21                           Eritrea  \n",
       "22                             Niger  \n",
       "23                        Madagascar  \n",
       "24                             Gabon  \n",
       "25                            Angola  \n",
       "26                          Ethiopia  \n",
       "27                           Liberia  \n",
       "28  Democratic Republic of the Congo  \n",
       "29                       Seychelles   \n",
       "30                        Mauritius   \n",
       "31                           Comoros  \n",
       "32                           Burundi  \n",
       "33                            Zambia  \n",
       "34                           Lesotho  \n",
       "35                        The Gambia  \n",
       "36                             Benin  \n",
       "37                            Malawi  \n",
       "38                        Mauritania  \n",
       "39          Central African Republic  \n",
       "40                             Kenya  \n",
       "41                             Ghana  \n",
       "42                         Swaziland  \n",
       "43                      Burkina Faso  \n",
       "44                            Uganda  \n",
       "45                          Zimbabwe  \n",
       "46                     Cote d'Ivoire  \n",
       "47             Republic of the Congo  "
      ]
     },
     "execution_count": 567,
     "metadata": {},
     "output_type": "execute_result"
    }
   ],
   "source": [
    "# getting a list of regions and countries in the region (no duplicate)\n",
    "regions = MMClean['Country'].groupby(MMClean['Region']).unique()\n",
    "\n",
    "# converting series into a dictionary \n",
    "dictionaryRegions = regions.to_dict()\n",
    "\n",
    "# converting a dictionary into a dataframe\n",
    "df = pd.DataFrame.from_dict(dictionaryRegions,orient='index').transpose()\n",
    "df"
   ]
  },
  {
   "cell_type": "markdown",
   "id": "f9ebc655-35b0-4656-a6dc-13942a0acb38",
   "metadata": {},
   "source": [
    "### Part 2: Write a csv file "
   ]
  },
  {
   "cell_type": "code",
   "execution_count": 568,
   "id": "288a09ec-447f-439c-8591-e7b17c96a97c",
   "metadata": {},
   "outputs": [],
   "source": [
    "# saving the dataframe as a CSV file 'Countries_By_Regions'\n",
    "df.to_csv('MarvelMart/Countries_By_Region.csv', index=False)"
   ]
  }
 ],
 "metadata": {
  "kernelspec": {
   "display_name": "Python 3 (ipykernel)",
   "language": "python",
   "name": "python3"
  },
  "language_info": {
   "codemirror_mode": {
    "name": "ipython",
    "version": 3
   },
   "file_extension": ".py",
   "mimetype": "text/x-python",
   "name": "python",
   "nbconvert_exporter": "python",
   "pygments_lexer": "ipython3",
   "version": "3.9.7"
  }
 },
 "nbformat": 4,
 "nbformat_minor": 5
}
